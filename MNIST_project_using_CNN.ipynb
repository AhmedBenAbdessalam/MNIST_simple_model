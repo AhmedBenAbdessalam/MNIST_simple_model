{
  "nbformat": 4,
  "nbformat_minor": 0,
  "metadata": {
    "colab": {
      "name": "MNIST project using CNN.ipynb",
      "provenance": [],
      "collapsed_sections": [],
      "toc_visible": true,
      "authorship_tag": "ABX9TyNQT/ZMwrZmEbQoNOfBZdKH",
      "include_colab_link": true
    },
    "kernelspec": {
      "name": "python3",
      "display_name": "Python 3"
    },
    "language_info": {
      "name": "python"
    }
  },
  "cells": [
    {
      "cell_type": "markdown",
      "metadata": {
        "id": "view-in-github",
        "colab_type": "text"
      },
      "source": [
        "<a href=\"https://colab.research.google.com/github/AhmedBenAbdessalam/MNIST_simple_model/blob/main/MNIST_project_using_CNN.ipynb\" target=\"_parent\"><img src=\"https://colab.research.google.com/assets/colab-badge.svg\" alt=\"Open In Colab\"/></a>"
      ]
    },
    {
      "cell_type": "markdown",
      "metadata": {
        "id": "hLCpahzQRvrP"
      },
      "source": [
        "##Imports"
      ]
    },
    {
      "cell_type": "code",
      "metadata": {
        "id": "UrgiRdshVPR5"
      },
      "source": [
        "import numpy as np\n",
        "import tensorflow as tf\n",
        "import tensorflow_datasets as tfds"
      ],
      "execution_count": 65,
      "outputs": []
    },
    {
      "cell_type": "markdown",
      "metadata": {
        "id": "J-scWPRMVWRz"
      },
      "source": [
        "##Preprocessing the data"
      ]
    },
    {
      "cell_type": "code",
      "metadata": {
        "id": "o__Wv3o_VaOm"
      },
      "source": [
        "BUFFER_SIZE = 70000\n",
        "BATCH_SIZE = 128\n",
        "NUM_EPOCHS = 20"
      ],
      "execution_count": 66,
      "outputs": []
    },
    {
      "cell_type": "code",
      "metadata": {
        "id": "G0c4h9AkVsT3"
      },
      "source": [
        "mnist_dataset , mnist_info = tfds.load(name=\"mnist\",with_info=True, as_supervised=True)"
      ],
      "execution_count": 67,
      "outputs": []
    },
    {
      "cell_type": "code",
      "metadata": {
        "id": "9ugWCXciWxE4"
      },
      "source": [
        "mnist_train, mnist_test = mnist_dataset['train'] , mnist_dataset['test']"
      ],
      "execution_count": 68,
      "outputs": []
    },
    {
      "cell_type": "code",
      "metadata": {
        "id": "Nwb4tBEbXBKG"
      },
      "source": [
        "def grayscale_normalizer(image,label):\n",
        "  image = tf.cast(image,tf.float32)\n",
        "  image /= 255.\n",
        "  return image,label"
      ],
      "execution_count": 69,
      "outputs": []
    },
    {
      "cell_type": "code",
      "metadata": {
        "id": "PmiaTzqOXRcv"
      },
      "source": [
        "scaled_mnist_train, scaled_mnist_test = mnist_train.map(grayscale_normalizer), mnist_train.map(grayscale_normalizer)  "
      ],
      "execution_count": 70,
      "outputs": []
    },
    {
      "cell_type": "code",
      "metadata": {
        "id": "RSPaRskYbaAK"
      },
      "source": [
        "num_validation_data = .1 * mnist_info.splits['train'].num_examples\n",
        "num_validation_data = tf.cast(num_validation_data , tf.int64)\n",
        "num_test_data = mnist_info.splits['test'].num_examples\n",
        "num_test_data = tf.cast(num_test_data,tf.int64)"
      ],
      "execution_count": 71,
      "outputs": []
    },
    {
      "cell_type": "code",
      "metadata": {
        "colab": {
          "base_uri": "https://localhost:8080/"
        },
        "id": "aFw1V5lhbbuD",
        "outputId": "52648b5e-686f-4d5e-f225-b7c195af30f4"
      },
      "source": [
        "scaled_mnist_train.shuffle(BUFFER_SIZE)"
      ],
      "execution_count": 72,
      "outputs": [
        {
          "output_type": "execute_result",
          "data": {
            "text/plain": [
              "<ShuffleDataset shapes: ((28, 28, 1), ()), types: (tf.float32, tf.int64)>"
            ]
          },
          "metadata": {},
          "execution_count": 72
        }
      ]
    },
    {
      "cell_type": "code",
      "metadata": {
        "id": "laB3ObZ3dPmy"
      },
      "source": [
        "train_data = scaled_mnist_train.skip(num_validation_data)\n",
        "validation_data = scaled_mnist_train.take(num_validation_data)\n",
        "test_data = scaled_mnist_test"
      ],
      "execution_count": 73,
      "outputs": []
    },
    {
      "cell_type": "code",
      "metadata": {
        "id": "V2gxM-qKe5VU"
      },
      "source": [
        "train_data = train_data.batch(BATCH_SIZE)\n",
        "validation_data= validation_data.batch(num_validation_data)\n",
        "test_data = test_data.batch(num_train_data)"
      ],
      "execution_count": 74,
      "outputs": []
    },
    {
      "cell_type": "markdown",
      "metadata": {
        "id": "Xy1pVoEefm2I"
      },
      "source": [
        "##Model"
      ]
    },
    {
      "cell_type": "code",
      "metadata": {
        "id": "VHqh9Py5oZ0q"
      },
      "source": [
        "model = tf.keras.Sequential([\n",
        "                             tf.keras.layers.Conv2D(filters=50,kernel_size=5,activation='relu' , input_shape=(28,28,1)),\n",
        "                             tf.keras.layers.MaxPool2D(pool_size=(2,2)),\n",
        "                             tf.keras.layers.Conv2D(filters=50,kernel_size=3,activation='relu'),\n",
        "                             tf.keras.layers.MaxPool2D(pool_size=(2,2)),\n",
        "                             tf.keras.layers.Flatten(),\n",
        "                             tf.keras.layers.Dense(10)\n",
        "])"
      ],
      "execution_count": 75,
      "outputs": []
    },
    {
      "cell_type": "code",
      "metadata": {
        "colab": {
          "base_uri": "https://localhost:8080/"
        },
        "id": "s-UpF7R0qKUA",
        "outputId": "6347bbe1-dd0a-4844-8bae-fbd9e151847d"
      },
      "source": [
        "model.summary()"
      ],
      "execution_count": 76,
      "outputs": [
        {
          "output_type": "stream",
          "name": "stdout",
          "text": [
            "Model: \"sequential_1\"\n",
            "_________________________________________________________________\n",
            " Layer (type)                Output Shape              Param #   \n",
            "=================================================================\n",
            " conv2d_2 (Conv2D)           (None, 24, 24, 50)        1300      \n",
            "                                                                 \n",
            " max_pooling2d_2 (MaxPooling  (None, 12, 12, 50)       0         \n",
            " 2D)                                                             \n",
            "                                                                 \n",
            " conv2d_3 (Conv2D)           (None, 10, 10, 50)        22550     \n",
            "                                                                 \n",
            " max_pooling2d_3 (MaxPooling  (None, 5, 5, 50)         0         \n",
            " 2D)                                                             \n",
            "                                                                 \n",
            " flatten_1 (Flatten)         (None, 1250)              0         \n",
            "                                                                 \n",
            " dense_1 (Dense)             (None, 10)                12510     \n",
            "                                                                 \n",
            "=================================================================\n",
            "Total params: 36,360\n",
            "Trainable params: 36,360\n",
            "Non-trainable params: 0\n",
            "_________________________________________________________________\n"
          ]
        }
      ]
    },
    {
      "cell_type": "code",
      "metadata": {
        "id": "8Ha2gQAvqNT2"
      },
      "source": [
        "loss_fn = tf.keras.losses.SparseCategoricalCrossentropy(from_logits=True)"
      ],
      "execution_count": 77,
      "outputs": []
    },
    {
      "cell_type": "code",
      "metadata": {
        "id": "BsSvCX-ns7Eq"
      },
      "source": [
        "model.compile(optimizer=\"adam\" , loss=loss_fn , metrics=['accuracy'])"
      ],
      "execution_count": 78,
      "outputs": []
    },
    {
      "cell_type": "code",
      "metadata": {
        "id": "OETRzuYsr5Wz"
      },
      "source": [
        "early_stopping = tf.keras.callbacks.EarlyStopping(\n",
        "    monitor ='val_loss',\n",
        "    mode='auto',\n",
        "    min_delta = 0,\n",
        "    patience = 2,\n",
        "    verbose = 0,\n",
        "    restore_best_weights= True\n",
        ")"
      ],
      "execution_count": 79,
      "outputs": []
    },
    {
      "cell_type": "code",
      "metadata": {
        "colab": {
          "base_uri": "https://localhost:8080/"
        },
        "id": "a4GhzbHcrud_",
        "outputId": "8006cb38-84bf-488e-f47e-a4d012ada1b5"
      },
      "source": [
        "model.fit(\n",
        "    train_data,\n",
        "    batch_size=BATCH_SIZE,\n",
        "    epochs=NUM_EPOCHS,\n",
        "     verbose=2,\n",
        "     callbacks=[early_stopping],\n",
        "     validation_data=validation_data)"
      ],
      "execution_count": 80,
      "outputs": [
        {
          "output_type": "stream",
          "name": "stdout",
          "text": [
            "Epoch 1/20\n",
            "422/422 - 63s - loss: 0.2682 - accuracy: 0.9229 - val_loss: 0.0918 - val_accuracy: 0.9735 - 63s/epoch - 149ms/step\n",
            "Epoch 2/20\n",
            "422/422 - 59s - loss: 0.0721 - accuracy: 0.9776 - val_loss: 0.0674 - val_accuracy: 0.9810 - 59s/epoch - 139ms/step\n",
            "Epoch 3/20\n",
            "422/422 - 59s - loss: 0.0516 - accuracy: 0.9841 - val_loss: 0.0605 - val_accuracy: 0.9827 - 59s/epoch - 139ms/step\n",
            "Epoch 4/20\n",
            "422/422 - 59s - loss: 0.0413 - accuracy: 0.9874 - val_loss: 0.0545 - val_accuracy: 0.9840 - 59s/epoch - 139ms/step\n",
            "Epoch 5/20\n",
            "422/422 - 59s - loss: 0.0346 - accuracy: 0.9895 - val_loss: 0.0507 - val_accuracy: 0.9855 - 59s/epoch - 139ms/step\n",
            "Epoch 6/20\n",
            "422/422 - 59s - loss: 0.0292 - accuracy: 0.9912 - val_loss: 0.0484 - val_accuracy: 0.9858 - 59s/epoch - 139ms/step\n",
            "Epoch 7/20\n",
            "422/422 - 59s - loss: 0.0251 - accuracy: 0.9928 - val_loss: 0.0474 - val_accuracy: 0.9865 - 59s/epoch - 139ms/step\n",
            "Epoch 8/20\n",
            "422/422 - 58s - loss: 0.0214 - accuracy: 0.9939 - val_loss: 0.0472 - val_accuracy: 0.9875 - 58s/epoch - 139ms/step\n",
            "Epoch 9/20\n",
            "422/422 - 58s - loss: 0.0183 - accuracy: 0.9947 - val_loss: 0.0467 - val_accuracy: 0.9880 - 58s/epoch - 139ms/step\n",
            "Epoch 10/20\n",
            "422/422 - 58s - loss: 0.0156 - accuracy: 0.9954 - val_loss: 0.0493 - val_accuracy: 0.9875 - 58s/epoch - 138ms/step\n",
            "Epoch 11/20\n",
            "422/422 - 59s - loss: 0.0130 - accuracy: 0.9964 - val_loss: 0.0583 - val_accuracy: 0.9853 - 59s/epoch - 139ms/step\n"
          ]
        },
        {
          "output_type": "execute_result",
          "data": {
            "text/plain": [
              "<keras.callbacks.History at 0x7f0540261590>"
            ]
          },
          "metadata": {},
          "execution_count": 80
        }
      ]
    },
    {
      "cell_type": "markdown",
      "metadata": {
        "id": "Sj8EQa8QtySb"
      },
      "source": [
        "##Testing"
      ]
    },
    {
      "cell_type": "code",
      "metadata": {
        "colab": {
          "base_uri": "https://localhost:8080/"
        },
        "id": "8gyGL9uxxN70",
        "outputId": "ad93c56b-760f-40a4-824c-ce9aae48ea0a"
      },
      "source": [
        "test_loss, test_accuracy = model.evaluate(test_data)\n",
        "print('Test loss: {0:.4f}. Test accuracy: {1:.2f}%'.format(test_loss, test_accuracy*100.))"
      ],
      "execution_count": 83,
      "outputs": [
        {
          "output_type": "stream",
          "name": "stdout",
          "text": [
            "2/2 [==============================] - 15s 1s/step - loss: 0.0203 - accuracy: 0.9937\n",
            "Test loss: 0.0203. Test accuracy: 99.37%\n"
          ]
        }
      ]
    },
    {
      "cell_type": "code",
      "metadata": {
        "id": "lz87VnLQxU__"
      },
      "source": [
        ""
      ],
      "execution_count": null,
      "outputs": []
    }
  ]
}
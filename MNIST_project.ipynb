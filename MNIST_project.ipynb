{
  "nbformat": 4,
  "nbformat_minor": 0,
  "metadata": {
    "colab": {
      "name": "MNIST project.ipynb",
      "provenance": [],
      "collapsed_sections": [],
      "authorship_tag": "ABX9TyNmoLjW3mGC62gsTkh6coPk",
      "include_colab_link": true
    },
    "kernelspec": {
      "name": "python3",
      "display_name": "Python 3"
    },
    "language_info": {
      "name": "python"
    }
  },
  "cells": [
    {
      "cell_type": "markdown",
      "metadata": {
        "id": "view-in-github",
        "colab_type": "text"
      },
      "source": [
        "<a href=\"https://colab.research.google.com/github/AhmedBenAbdessalam/MNIST_simple_model/blob/main/MNIST_project.ipynb\" target=\"_parent\"><img src=\"https://colab.research.google.com/assets/colab-badge.svg\" alt=\"Open In Colab\"/></a>"
      ]
    },
    {
      "cell_type": "markdown",
      "metadata": {
        "id": "QLBIZ4Us0X_-"
      },
      "source": [
        "##Imports"
      ]
    },
    {
      "cell_type": "code",
      "metadata": {
        "id": "-m8v3Vod0o4-"
      },
      "source": [
        "import numpy as np\n",
        "import tensorflow as tf\n",
        "\n",
        "import tensorflow_datasets as tfds"
      ],
      "execution_count": 71,
      "outputs": []
    },
    {
      "cell_type": "markdown",
      "metadata": {
        "id": "iGR7NGd40zOx"
      },
      "source": [
        "## Data"
      ]
    },
    {
      "cell_type": "code",
      "metadata": {
        "id": "j1hkPN-21Gqk"
      },
      "source": [
        "mnist_dataset, mnist_info = tfds.load(name=\"mnist\", with_info=True, as_supervised=True)"
      ],
      "execution_count": 72,
      "outputs": []
    },
    {
      "cell_type": "code",
      "metadata": {
        "colab": {
          "base_uri": "https://localhost:8080/"
        },
        "id": "sRZi_ZfK6L9c",
        "outputId": "cc99c34e-b191-45bc-d65d-5f7a512c022a"
      },
      "source": [
        "mnist_info.features"
      ],
      "execution_count": 73,
      "outputs": [
        {
          "output_type": "execute_result",
          "data": {
            "text/plain": [
              "FeaturesDict({\n",
              "    'image': Image(shape=(28, 28, 1), dtype=tf.uint8),\n",
              "    'label': ClassLabel(shape=(), dtype=tf.int64, num_classes=10),\n",
              "})"
            ]
          },
          "metadata": {},
          "execution_count": 73
        }
      ]
    },
    {
      "cell_type": "code",
      "metadata": {
        "id": "TAthJkWS1NLF"
      },
      "source": [
        "mnist_train , mnist_test = mnist_dataset['test'] ,mnist_dataset['test']\n",
        "num_validation_samples = 0.1 * mnist_info.splits['train'].num_examples\n",
        "num_validation_samples = tf.cast(num_validation_samples , tf.int64)\n"
      ],
      "execution_count": 74,
      "outputs": []
    },
    {
      "cell_type": "code",
      "metadata": {
        "id": "lhLaR-gS6im3"
      },
      "source": [
        "num_test_samples = mnist_info.splits['test'].num_examples\n",
        "num_test_samples = tf.cast(num_test_samples , tf.int64)"
      ],
      "execution_count": 75,
      "outputs": []
    },
    {
      "cell_type": "code",
      "metadata": {
        "id": "zgaVDSqa7IFZ"
      },
      "source": [
        "def scale(image, label):\n",
        "  image = tf.cast(image, tf.float32)\n",
        "  image /= 255.\n",
        "  return image, label"
      ],
      "execution_count": 76,
      "outputs": []
    },
    {
      "cell_type": "code",
      "metadata": {
        "id": "y-3lp7pS7nnh"
      },
      "source": [
        "scaled_train_and_validation_data = mnist_train.map(scale)\n",
        "\n",
        "scaled_test_data = mnist_train.map(scale)\n",
        "\n",
        "BUFFER_SIZE = 10000\n",
        "\n",
        "shuffed_train_and_validation_data = scaled_train_and_validation_data.shuffle(BUFFER_SIZE)\n",
        "\n",
        "validation_data = shuffed_train_and_validation_data.take(num_validation_samples)\n",
        "train_data = shuffed_train_and_validation_data.skip(num_validation_samples)"
      ],
      "execution_count": 77,
      "outputs": []
    },
    {
      "cell_type": "code",
      "metadata": {
        "id": "tt4blF1Z9CF5"
      },
      "source": [
        "BATCH_SIZE = 100\n",
        "train_data = train_data.batch(BATCH_SIZE)\n",
        "validation_data = validation_data.batch(num_validation_samples)\n",
        "test_data = scaled_test_data.batch(num_test_samples)\n",
        "\n",
        "validation_inputs , validation_targets = next(iter(validation_data))"
      ],
      "execution_count": 78,
      "outputs": []
    },
    {
      "cell_type": "markdown",
      "metadata": {
        "id": "Bw_Xmp-m-DqL"
      },
      "source": [
        "##Model"
      ]
    },
    {
      "cell_type": "code",
      "metadata": {
        "id": "q3lOzTcc-IPU"
      },
      "source": [
        "input_size = 784\n",
        "output_size = 10\n",
        "hidden_layer_size = 200\n",
        "\n",
        "model = tf.keras.Sequential([\n",
        "                             tf.keras.layers.Flatten(input_shape=(28,28,1)),\n",
        "                             tf.keras.layers.Dense(200,activation='relu'),\n",
        "                             tf.keras.layers.Dense(150,activation='relu'),\n",
        "                             tf.keras.layers.Dense(output_size,activation='softmax')\n",
        "                            ])"
      ],
      "execution_count": 110,
      "outputs": []
    },
    {
      "cell_type": "code",
      "metadata": {
        "id": "6CZUir2IIIIw"
      },
      "source": [
        "adam = tf.keras.optimizers.Adam(learning_rate=0.1)"
      ],
      "execution_count": 111,
      "outputs": []
    },
    {
      "cell_type": "code",
      "metadata": {
        "id": "6gstV2TwB-G3"
      },
      "source": [
        "model.compile(optimizer='adam',loss='sparse_categorical_crossentropy' , metrics=['accuracy'] )"
      ],
      "execution_count": 112,
      "outputs": []
    },
    {
      "cell_type": "markdown",
      "metadata": {
        "id": "D4W7cI-NComC"
      },
      "source": [
        "###Training"
      ]
    },
    {
      "cell_type": "code",
      "metadata": {
        "colab": {
          "base_uri": "https://localhost:8080/"
        },
        "id": "PfI9ZVKdCyho",
        "outputId": "4af5b1c7-e73c-4978-c625-07854f8549f7"
      },
      "source": [
        "NUM_EPOCHS = 20\n",
        "\n",
        "model.fit(train_data,epochs=NUM_EPOCHS,validation_data=(validation_inputs,validation_targets),verbose=2)"
      ],
      "execution_count": 113,
      "outputs": [
        {
          "output_type": "stream",
          "name": "stdout",
          "text": [
            "Epoch 1/20\n",
            "40/40 - 1s - loss: 0.9873 - accuracy: 0.7218 - val_loss: 0.3863 - val_accuracy: 0.8880 - 1s/epoch - 30ms/step\n",
            "Epoch 2/20\n",
            "40/40 - 1s - loss: 0.3441 - accuracy: 0.8945 - val_loss: 0.2789 - val_accuracy: 0.9212 - 670ms/epoch - 17ms/step\n",
            "Epoch 3/20\n",
            "40/40 - 1s - loss: 0.2370 - accuracy: 0.9300 - val_loss: 0.2334 - val_accuracy: 0.9322 - 786ms/epoch - 20ms/step\n",
            "Epoch 4/20\n",
            "40/40 - 1s - loss: 0.2137 - accuracy: 0.9375 - val_loss: 0.2058 - val_accuracy: 0.9352 - 777ms/epoch - 19ms/step\n",
            "Epoch 5/20\n",
            "40/40 - 1s - loss: 0.1805 - accuracy: 0.9495 - val_loss: 0.1595 - val_accuracy: 0.9562 - 807ms/epoch - 20ms/step\n",
            "Epoch 6/20\n",
            "40/40 - 1s - loss: 0.1373 - accuracy: 0.9600 - val_loss: 0.1320 - val_accuracy: 0.9630 - 774ms/epoch - 19ms/step\n",
            "Epoch 7/20\n",
            "40/40 - 1s - loss: 0.1344 - accuracy: 0.9620 - val_loss: 0.1339 - val_accuracy: 0.9595 - 826ms/epoch - 21ms/step\n",
            "Epoch 8/20\n",
            "40/40 - 1s - loss: 0.1179 - accuracy: 0.9695 - val_loss: 0.0990 - val_accuracy: 0.9710 - 668ms/epoch - 17ms/step\n",
            "Epoch 9/20\n",
            "40/40 - 1s - loss: 0.1108 - accuracy: 0.9693 - val_loss: 0.0946 - val_accuracy: 0.9732 - 682ms/epoch - 17ms/step\n",
            "Epoch 10/20\n",
            "40/40 - 1s - loss: 0.0874 - accuracy: 0.9770 - val_loss: 0.0758 - val_accuracy: 0.9795 - 777ms/epoch - 19ms/step\n",
            "Epoch 11/20\n",
            "40/40 - 1s - loss: 0.0933 - accuracy: 0.9725 - val_loss: 0.0689 - val_accuracy: 0.9823 - 663ms/epoch - 17ms/step\n",
            "Epoch 12/20\n",
            "40/40 - 1s - loss: 0.0657 - accuracy: 0.9783 - val_loss: 0.0831 - val_accuracy: 0.9743 - 783ms/epoch - 20ms/step\n",
            "Epoch 13/20\n",
            "40/40 - 1s - loss: 0.0658 - accuracy: 0.9808 - val_loss: 0.0615 - val_accuracy: 0.9825 - 795ms/epoch - 20ms/step\n",
            "Epoch 14/20\n",
            "40/40 - 1s - loss: 0.0651 - accuracy: 0.9812 - val_loss: 0.0434 - val_accuracy: 0.9902 - 662ms/epoch - 17ms/step\n",
            "Epoch 15/20\n",
            "40/40 - 1s - loss: 0.0445 - accuracy: 0.9885 - val_loss: 0.0364 - val_accuracy: 0.9923 - 656ms/epoch - 16ms/step\n",
            "Epoch 16/20\n",
            "40/40 - 1s - loss: 0.0419 - accuracy: 0.9875 - val_loss: 0.0345 - val_accuracy: 0.9917 - 817ms/epoch - 20ms/step\n",
            "Epoch 17/20\n",
            "40/40 - 1s - loss: 0.0430 - accuracy: 0.9898 - val_loss: 0.0343 - val_accuracy: 0.9912 - 758ms/epoch - 19ms/step\n",
            "Epoch 18/20\n",
            "40/40 - 1s - loss: 0.0351 - accuracy: 0.9905 - val_loss: 0.0383 - val_accuracy: 0.9892 - 749ms/epoch - 19ms/step\n",
            "Epoch 19/20\n",
            "40/40 - 1s - loss: 0.0291 - accuracy: 0.9935 - val_loss: 0.0242 - val_accuracy: 0.9945 - 776ms/epoch - 19ms/step\n",
            "Epoch 20/20\n",
            "40/40 - 1s - loss: 0.0268 - accuracy: 0.9935 - val_loss: 0.0264 - val_accuracy: 0.9948 - 787ms/epoch - 20ms/step\n"
          ]
        },
        {
          "output_type": "execute_result",
          "data": {
            "text/plain": [
              "<keras.callbacks.History at 0x7fb2a52cff10>"
            ]
          },
          "metadata": {},
          "execution_count": 113
        }
      ]
    },
    {
      "cell_type": "markdown",
      "metadata": {
        "id": "P30rpTeaGHWN"
      },
      "source": [
        "## Test the model"
      ]
    },
    {
      "cell_type": "code",
      "metadata": {
        "colab": {
          "base_uri": "https://localhost:8080/"
        },
        "id": "r_FB9rmpJItu",
        "outputId": "d277f769-35d8-4a74-d8dc-128d2ba751d8"
      },
      "source": [
        "test_loss, test_accuracy = model.evaluate(test_data)"
      ],
      "execution_count": 115,
      "outputs": [
        {
          "output_type": "stream",
          "name": "stdout",
          "text": [
            "1/1 [==============================] - 0s 381ms/step - loss: 0.0257 - accuracy: 0.9955\n"
          ]
        }
      ]
    },
    {
      "cell_type": "code",
      "metadata": {
        "colab": {
          "base_uri": "https://localhost:8080/"
        },
        "id": "YsSSN7DmJjB0",
        "outputId": "d20e2ff0-b1c3-474c-b8c5-525d66d17d9f"
      },
      "source": [
        "print('Test loss: {0:.2f}. Test accuracy: {1:.2f}%'.format(test_loss,test_accuracy*100.))"
      ],
      "execution_count": 117,
      "outputs": [
        {
          "output_type": "stream",
          "name": "stdout",
          "text": [
            "Test loss: 0.03. Test accuracy: 99.55%\n"
          ]
        }
      ]
    },
    {
      "cell_type": "code",
      "metadata": {
        "id": "7fbMvxQiJ3qu"
      },
      "source": [
        ""
      ],
      "execution_count": null,
      "outputs": []
    }
  ]
}